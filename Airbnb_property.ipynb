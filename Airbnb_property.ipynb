{
 "cells": [
  {
   "metadata": {},
   "cell_type": "markdown",
   "source": "# Airbnb property price",
   "id": "da05411c"
  },
  {
   "cell_type": "markdown",
   "id": "f75a4409",
   "metadata": {},
   "source": [
    "### Loading the dataset"
   ]
  },
  {
   "cell_type": "code",
   "id": "3287be2e",
   "metadata": {
    "ExecuteTime": {
     "end_time": "2025-07-05T20:05:30.623173Z",
     "start_time": "2025-07-05T20:05:30.618274Z"
    }
   },
   "source": [
    "# import kagglehub\n",
    "#\n",
    "# # Download latest version\n",
    "# path = kagglehub.dataset_download(\"PromptCloudHQ/airbnb-property-data-from-texas\")\n",
    "#\n",
    "# print(\"Path to dataset files:\", path)"
   ],
   "outputs": [],
   "execution_count": 285
  },
  {
   "cell_type": "markdown",
   "id": "17934f3c",
   "metadata": {},
   "source": [
    "### Importing libraries"
   ]
  },
  {
   "cell_type": "code",
   "id": "8da82c46",
   "metadata": {
    "ExecuteTime": {
     "end_time": "2025-07-05T20:05:30.650295Z",
     "start_time": "2025-07-05T20:05:30.644384Z"
    }
   },
   "source": [
    "import pandas as pd\n",
    "import numpy as np\n",
    "import matplotlib.pyplot as plt\n",
    "import seaborn as sns\n",
    "from sklearn.impute import SimpleImputer"
   ],
   "outputs": [],
   "execution_count": 286
  },
  {
   "cell_type": "code",
   "id": "bb35203c",
   "metadata": {
    "ExecuteTime": {
     "end_time": "2025-07-05T20:05:30.835878Z",
     "start_time": "2025-07-05T20:05:30.662268Z"
    }
   },
   "source": [
    "ds = pd.read_csv('Airbnb_Texas_Rentals.csv')\n",
    "ds.head(10)"
   ],
   "outputs": [
    {
     "data": {
      "text/plain": [
       "   Unnamed: 0 average_rate_per_night bedrooms_count         city  \\\n",
       "0           1                    $27              2       Humble   \n",
       "1           2                   $149              4  San Antonio   \n",
       "2           3                    $59              1      Houston   \n",
       "3           4                    $60              1        Bryan   \n",
       "4           5                    $75              2   Fort Worth   \n",
       "5           6                   $250              4       Conroe   \n",
       "6           7                   $129              3  Cedar Creek   \n",
       "7           8                    $25              1   Fort Worth   \n",
       "8           9                   $345              3     Rockport   \n",
       "9          10                    $72         Studio  San Antonio   \n",
       "\n",
       "  date_of_listing                                        description  \\\n",
       "0        May 2016  Welcome to stay in private room with queen bed...   \n",
       "1   November 2010  Stylish, fully remodeled home in upscale NW – ...   \n",
       "2    January 2017  'River house on island close to the city' \\nA ...   \n",
       "3   February 2016  Private bedroom in a cute little home situated...   \n",
       "4   February 2017  Welcome to our original 1920's home. We recent...   \n",
       "5     August 2016  My place is close to Lake Conroe, family-frien...   \n",
       "6      March 2016  Rustic country retreat on 8 acres southeast of...   \n",
       "7    January 2016  This is a beautiful bedroom with a queen size ...   \n",
       "8   February 2016  First class and comfortable condo with the bes...   \n",
       "9     August 2013                     Private entrance to your own \\   \n",
       "\n",
       "    latitude  longitude                                              title  \\\n",
       "0  30.020138 -95.293996    2 Private rooms/bathroom 10min from IAH airport   \n",
       "1  29.503068 -98.447688  Unique Location! Alamo Heights - Designer Insp...   \n",
       "2  29.829352 -95.081549                          River house near the city   \n",
       "3  30.637304 -96.337846                       Private Room Close to Campus   \n",
       "4  32.747097 -97.286434                                          The Porch   \n",
       "5  30.370455 -95.385319                 Gorgeous Home with Country Setting   \n",
       "6  30.109838 -97.473417      Cozy and Quaint Country Retreat with Acreage.   \n",
       "7  32.689611 -97.298161       Friendly Private Room in َQuiet Neighborhood   \n",
       "8  28.103726 -97.025832                              608 - Bayfront Condos   \n",
       "9  29.480646 -98.495692                       Cozy Historic Private Studio   \n",
       "\n",
       "                                                 url  \n",
       "0  https://www.airbnb.com/rooms/18520444?location...  \n",
       "1  https://www.airbnb.com/rooms/17481455?location...  \n",
       "2  https://www.airbnb.com/rooms/16926307?location...  \n",
       "3  https://www.airbnb.com/rooms/11839729?location...  \n",
       "4  https://www.airbnb.com/rooms/17325114?location...  \n",
       "5  https://www.airbnb.com/rooms/14466133?location...  \n",
       "6  https://www.airbnb.com/rooms/12491762?location...  \n",
       "7  https://www.airbnb.com/rooms/18977363?location...  \n",
       "8  https://www.airbnb.com/rooms/17559848?location...  \n",
       "9  https://www.airbnb.com/rooms/1588127?location=...  "
      ],
      "text/html": [
       "<div>\n",
       "<style scoped>\n",
       "    .dataframe tbody tr th:only-of-type {\n",
       "        vertical-align: middle;\n",
       "    }\n",
       "\n",
       "    .dataframe tbody tr th {\n",
       "        vertical-align: top;\n",
       "    }\n",
       "\n",
       "    .dataframe thead th {\n",
       "        text-align: right;\n",
       "    }\n",
       "</style>\n",
       "<table border=\"1\" class=\"dataframe\">\n",
       "  <thead>\n",
       "    <tr style=\"text-align: right;\">\n",
       "      <th></th>\n",
       "      <th>Unnamed: 0</th>\n",
       "      <th>average_rate_per_night</th>\n",
       "      <th>bedrooms_count</th>\n",
       "      <th>city</th>\n",
       "      <th>date_of_listing</th>\n",
       "      <th>description</th>\n",
       "      <th>latitude</th>\n",
       "      <th>longitude</th>\n",
       "      <th>title</th>\n",
       "      <th>url</th>\n",
       "    </tr>\n",
       "  </thead>\n",
       "  <tbody>\n",
       "    <tr>\n",
       "      <th>0</th>\n",
       "      <td>1</td>\n",
       "      <td>$27</td>\n",
       "      <td>2</td>\n",
       "      <td>Humble</td>\n",
       "      <td>May 2016</td>\n",
       "      <td>Welcome to stay in private room with queen bed...</td>\n",
       "      <td>30.020138</td>\n",
       "      <td>-95.293996</td>\n",
       "      <td>2 Private rooms/bathroom 10min from IAH airport</td>\n",
       "      <td>https://www.airbnb.com/rooms/18520444?location...</td>\n",
       "    </tr>\n",
       "    <tr>\n",
       "      <th>1</th>\n",
       "      <td>2</td>\n",
       "      <td>$149</td>\n",
       "      <td>4</td>\n",
       "      <td>San Antonio</td>\n",
       "      <td>November 2010</td>\n",
       "      <td>Stylish, fully remodeled home in upscale NW – ...</td>\n",
       "      <td>29.503068</td>\n",
       "      <td>-98.447688</td>\n",
       "      <td>Unique Location! Alamo Heights - Designer Insp...</td>\n",
       "      <td>https://www.airbnb.com/rooms/17481455?location...</td>\n",
       "    </tr>\n",
       "    <tr>\n",
       "      <th>2</th>\n",
       "      <td>3</td>\n",
       "      <td>$59</td>\n",
       "      <td>1</td>\n",
       "      <td>Houston</td>\n",
       "      <td>January 2017</td>\n",
       "      <td>'River house on island close to the city' \\nA ...</td>\n",
       "      <td>29.829352</td>\n",
       "      <td>-95.081549</td>\n",
       "      <td>River house near the city</td>\n",
       "      <td>https://www.airbnb.com/rooms/16926307?location...</td>\n",
       "    </tr>\n",
       "    <tr>\n",
       "      <th>3</th>\n",
       "      <td>4</td>\n",
       "      <td>$60</td>\n",
       "      <td>1</td>\n",
       "      <td>Bryan</td>\n",
       "      <td>February 2016</td>\n",
       "      <td>Private bedroom in a cute little home situated...</td>\n",
       "      <td>30.637304</td>\n",
       "      <td>-96.337846</td>\n",
       "      <td>Private Room Close to Campus</td>\n",
       "      <td>https://www.airbnb.com/rooms/11839729?location...</td>\n",
       "    </tr>\n",
       "    <tr>\n",
       "      <th>4</th>\n",
       "      <td>5</td>\n",
       "      <td>$75</td>\n",
       "      <td>2</td>\n",
       "      <td>Fort Worth</td>\n",
       "      <td>February 2017</td>\n",
       "      <td>Welcome to our original 1920's home. We recent...</td>\n",
       "      <td>32.747097</td>\n",
       "      <td>-97.286434</td>\n",
       "      <td>The Porch</td>\n",
       "      <td>https://www.airbnb.com/rooms/17325114?location...</td>\n",
       "    </tr>\n",
       "    <tr>\n",
       "      <th>5</th>\n",
       "      <td>6</td>\n",
       "      <td>$250</td>\n",
       "      <td>4</td>\n",
       "      <td>Conroe</td>\n",
       "      <td>August 2016</td>\n",
       "      <td>My place is close to Lake Conroe, family-frien...</td>\n",
       "      <td>30.370455</td>\n",
       "      <td>-95.385319</td>\n",
       "      <td>Gorgeous Home with Country Setting</td>\n",
       "      <td>https://www.airbnb.com/rooms/14466133?location...</td>\n",
       "    </tr>\n",
       "    <tr>\n",
       "      <th>6</th>\n",
       "      <td>7</td>\n",
       "      <td>$129</td>\n",
       "      <td>3</td>\n",
       "      <td>Cedar Creek</td>\n",
       "      <td>March 2016</td>\n",
       "      <td>Rustic country retreat on 8 acres southeast of...</td>\n",
       "      <td>30.109838</td>\n",
       "      <td>-97.473417</td>\n",
       "      <td>Cozy and Quaint Country Retreat with Acreage.</td>\n",
       "      <td>https://www.airbnb.com/rooms/12491762?location...</td>\n",
       "    </tr>\n",
       "    <tr>\n",
       "      <th>7</th>\n",
       "      <td>8</td>\n",
       "      <td>$25</td>\n",
       "      <td>1</td>\n",
       "      <td>Fort Worth</td>\n",
       "      <td>January 2016</td>\n",
       "      <td>This is a beautiful bedroom with a queen size ...</td>\n",
       "      <td>32.689611</td>\n",
       "      <td>-97.298161</td>\n",
       "      <td>Friendly Private Room in َQuiet Neighborhood</td>\n",
       "      <td>https://www.airbnb.com/rooms/18977363?location...</td>\n",
       "    </tr>\n",
       "    <tr>\n",
       "      <th>8</th>\n",
       "      <td>9</td>\n",
       "      <td>$345</td>\n",
       "      <td>3</td>\n",
       "      <td>Rockport</td>\n",
       "      <td>February 2016</td>\n",
       "      <td>First class and comfortable condo with the bes...</td>\n",
       "      <td>28.103726</td>\n",
       "      <td>-97.025832</td>\n",
       "      <td>608 - Bayfront Condos</td>\n",
       "      <td>https://www.airbnb.com/rooms/17559848?location...</td>\n",
       "    </tr>\n",
       "    <tr>\n",
       "      <th>9</th>\n",
       "      <td>10</td>\n",
       "      <td>$72</td>\n",
       "      <td>Studio</td>\n",
       "      <td>San Antonio</td>\n",
       "      <td>August 2013</td>\n",
       "      <td>Private entrance to your own \\</td>\n",
       "      <td>29.480646</td>\n",
       "      <td>-98.495692</td>\n",
       "      <td>Cozy Historic Private Studio</td>\n",
       "      <td>https://www.airbnb.com/rooms/1588127?location=...</td>\n",
       "    </tr>\n",
       "  </tbody>\n",
       "</table>\n",
       "</div>"
      ]
     },
     "execution_count": 287,
     "metadata": {},
     "output_type": "execute_result"
    }
   ],
   "execution_count": 287
  },
  {
   "metadata": {},
   "cell_type": "markdown",
   "source": "### Drop unimportant columns",
   "id": "b313be7cd076d137"
  },
  {
   "cell_type": "code",
   "id": "bad119a7",
   "metadata": {
    "ExecuteTime": {
     "end_time": "2025-07-05T20:05:30.875608Z",
     "start_time": "2025-07-05T20:05:30.856171Z"
    }
   },
   "source": "ds.drop(columns=['title', 'description', 'Unnamed: 0', 'url'], inplace=True, axis=1)",
   "outputs": [],
   "execution_count": 288
  },
  {
   "metadata": {
    "ExecuteTime": {
     "end_time": "2025-07-05T20:05:30.934863Z",
     "start_time": "2025-07-05T20:05:30.919199Z"
    }
   },
   "cell_type": "code",
   "source": "ds.head()",
   "id": "4caa6c9378bcf1d1",
   "outputs": [
    {
     "data": {
      "text/plain": [
       "  average_rate_per_night bedrooms_count         city date_of_listing  \\\n",
       "0                    $27              2       Humble        May 2016   \n",
       "1                   $149              4  San Antonio   November 2010   \n",
       "2                    $59              1      Houston    January 2017   \n",
       "3                    $60              1        Bryan   February 2016   \n",
       "4                    $75              2   Fort Worth   February 2017   \n",
       "\n",
       "    latitude  longitude  \n",
       "0  30.020138 -95.293996  \n",
       "1  29.503068 -98.447688  \n",
       "2  29.829352 -95.081549  \n",
       "3  30.637304 -96.337846  \n",
       "4  32.747097 -97.286434  "
      ],
      "text/html": [
       "<div>\n",
       "<style scoped>\n",
       "    .dataframe tbody tr th:only-of-type {\n",
       "        vertical-align: middle;\n",
       "    }\n",
       "\n",
       "    .dataframe tbody tr th {\n",
       "        vertical-align: top;\n",
       "    }\n",
       "\n",
       "    .dataframe thead th {\n",
       "        text-align: right;\n",
       "    }\n",
       "</style>\n",
       "<table border=\"1\" class=\"dataframe\">\n",
       "  <thead>\n",
       "    <tr style=\"text-align: right;\">\n",
       "      <th></th>\n",
       "      <th>average_rate_per_night</th>\n",
       "      <th>bedrooms_count</th>\n",
       "      <th>city</th>\n",
       "      <th>date_of_listing</th>\n",
       "      <th>latitude</th>\n",
       "      <th>longitude</th>\n",
       "    </tr>\n",
       "  </thead>\n",
       "  <tbody>\n",
       "    <tr>\n",
       "      <th>0</th>\n",
       "      <td>$27</td>\n",
       "      <td>2</td>\n",
       "      <td>Humble</td>\n",
       "      <td>May 2016</td>\n",
       "      <td>30.020138</td>\n",
       "      <td>-95.293996</td>\n",
       "    </tr>\n",
       "    <tr>\n",
       "      <th>1</th>\n",
       "      <td>$149</td>\n",
       "      <td>4</td>\n",
       "      <td>San Antonio</td>\n",
       "      <td>November 2010</td>\n",
       "      <td>29.503068</td>\n",
       "      <td>-98.447688</td>\n",
       "    </tr>\n",
       "    <tr>\n",
       "      <th>2</th>\n",
       "      <td>$59</td>\n",
       "      <td>1</td>\n",
       "      <td>Houston</td>\n",
       "      <td>January 2017</td>\n",
       "      <td>29.829352</td>\n",
       "      <td>-95.081549</td>\n",
       "    </tr>\n",
       "    <tr>\n",
       "      <th>3</th>\n",
       "      <td>$60</td>\n",
       "      <td>1</td>\n",
       "      <td>Bryan</td>\n",
       "      <td>February 2016</td>\n",
       "      <td>30.637304</td>\n",
       "      <td>-96.337846</td>\n",
       "    </tr>\n",
       "    <tr>\n",
       "      <th>4</th>\n",
       "      <td>$75</td>\n",
       "      <td>2</td>\n",
       "      <td>Fort Worth</td>\n",
       "      <td>February 2017</td>\n",
       "      <td>32.747097</td>\n",
       "      <td>-97.286434</td>\n",
       "    </tr>\n",
       "  </tbody>\n",
       "</table>\n",
       "</div>"
      ]
     },
     "execution_count": 289,
     "metadata": {},
     "output_type": "execute_result"
    }
   ],
   "execution_count": 289
  },
  {
   "metadata": {},
   "cell_type": "markdown",
   "source": [
    "\n",
    "### Checking for missing values"
   ],
   "id": "403acc33077de5fa"
  },
  {
   "metadata": {
    "ExecuteTime": {
     "end_time": "2025-07-05T20:05:30.988402Z",
     "start_time": "2025-07-05T20:05:30.969584Z"
    }
   },
   "cell_type": "code",
   "source": "ds.info()",
   "id": "7f10d11cb7f27401",
   "outputs": [
    {
     "name": "stdout",
     "output_type": "stream",
     "text": [
      "<class 'pandas.core.frame.DataFrame'>\n",
      "RangeIndex: 18259 entries, 0 to 18258\n",
      "Data columns (total 6 columns):\n",
      " #   Column                  Non-Null Count  Dtype  \n",
      "---  ------                  --------------  -----  \n",
      " 0   average_rate_per_night  18231 non-null  object \n",
      " 1   bedrooms_count          18256 non-null  object \n",
      " 2   city                    18259 non-null  object \n",
      " 3   date_of_listing         18259 non-null  object \n",
      " 4   latitude                18225 non-null  float64\n",
      " 5   longitude               18225 non-null  float64\n",
      "dtypes: float64(2), object(4)\n",
      "memory usage: 856.0+ KB\n"
     ]
    }
   ],
   "execution_count": 290
  },
  {
   "metadata": {
    "ExecuteTime": {
     "end_time": "2025-07-05T20:05:31.039061Z",
     "start_time": "2025-07-05T20:05:31.014929Z"
    }
   },
   "cell_type": "code",
   "source": "ds.describe()",
   "id": "3a3038ae6751e357",
   "outputs": [
    {
     "data": {
      "text/plain": [
       "           latitude     longitude\n",
       "count  18225.000000  18225.000000\n",
       "mean      30.684906    -97.076785\n",
       "std        1.671008      1.328314\n",
       "min       25.894075   -103.690925\n",
       "25%       29.693117    -97.817193\n",
       "50%       30.275907    -97.134467\n",
       "75%       32.671095    -96.307023\n",
       "max       35.256299    -93.771139"
      ],
      "text/html": [
       "<div>\n",
       "<style scoped>\n",
       "    .dataframe tbody tr th:only-of-type {\n",
       "        vertical-align: middle;\n",
       "    }\n",
       "\n",
       "    .dataframe tbody tr th {\n",
       "        vertical-align: top;\n",
       "    }\n",
       "\n",
       "    .dataframe thead th {\n",
       "        text-align: right;\n",
       "    }\n",
       "</style>\n",
       "<table border=\"1\" class=\"dataframe\">\n",
       "  <thead>\n",
       "    <tr style=\"text-align: right;\">\n",
       "      <th></th>\n",
       "      <th>latitude</th>\n",
       "      <th>longitude</th>\n",
       "    </tr>\n",
       "  </thead>\n",
       "  <tbody>\n",
       "    <tr>\n",
       "      <th>count</th>\n",
       "      <td>18225.000000</td>\n",
       "      <td>18225.000000</td>\n",
       "    </tr>\n",
       "    <tr>\n",
       "      <th>mean</th>\n",
       "      <td>30.684906</td>\n",
       "      <td>-97.076785</td>\n",
       "    </tr>\n",
       "    <tr>\n",
       "      <th>std</th>\n",
       "      <td>1.671008</td>\n",
       "      <td>1.328314</td>\n",
       "    </tr>\n",
       "    <tr>\n",
       "      <th>min</th>\n",
       "      <td>25.894075</td>\n",
       "      <td>-103.690925</td>\n",
       "    </tr>\n",
       "    <tr>\n",
       "      <th>25%</th>\n",
       "      <td>29.693117</td>\n",
       "      <td>-97.817193</td>\n",
       "    </tr>\n",
       "    <tr>\n",
       "      <th>50%</th>\n",
       "      <td>30.275907</td>\n",
       "      <td>-97.134467</td>\n",
       "    </tr>\n",
       "    <tr>\n",
       "      <th>75%</th>\n",
       "      <td>32.671095</td>\n",
       "      <td>-96.307023</td>\n",
       "    </tr>\n",
       "    <tr>\n",
       "      <th>max</th>\n",
       "      <td>35.256299</td>\n",
       "      <td>-93.771139</td>\n",
       "    </tr>\n",
       "  </tbody>\n",
       "</table>\n",
       "</div>"
      ]
     },
     "execution_count": 291,
     "metadata": {},
     "output_type": "execute_result"
    }
   ],
   "execution_count": 291
  },
  {
   "metadata": {
    "ExecuteTime": {
     "end_time": "2025-07-05T20:05:31.068756Z",
     "start_time": "2025-07-05T20:05:31.061930Z"
    }
   },
   "cell_type": "code",
   "source": "ds.shape",
   "id": "66c830bb7711bdb7",
   "outputs": [
    {
     "data": {
      "text/plain": [
       "(18259, 6)"
      ]
     },
     "execution_count": 292,
     "metadata": {},
     "output_type": "execute_result"
    }
   ],
   "execution_count": 292
  },
  {
   "metadata": {
    "ExecuteTime": {
     "end_time": "2025-07-05T20:05:31.122720Z",
     "start_time": "2025-07-05T20:05:31.109825Z"
    }
   },
   "cell_type": "code",
   "source": [
    "for c in ds.columns:\n",
    "    print(c, ds.duplicated(c).sum())"
   ],
   "id": "e977a537d6b83a99",
   "outputs": [
    {
     "name": "stdout",
     "output_type": "stream",
     "text": [
      "average_rate_per_night 17558\n",
      "bedrooms_count 18245\n",
      "city 17754\n",
      "date_of_listing 18157\n",
      "latitude 6742\n",
      "longitude 6742\n"
     ]
    }
   ],
   "execution_count": 293
  },
  {
   "metadata": {
    "ExecuteTime": {
     "end_time": "2025-07-05T20:05:31.167561Z",
     "start_time": "2025-07-05T20:05:31.155318Z"
    }
   },
   "cell_type": "code",
   "source": "ds.isnull().sum()",
   "id": "cfc4280aa15bfaf1",
   "outputs": [
    {
     "data": {
      "text/plain": [
       "average_rate_per_night    28\n",
       "bedrooms_count             3\n",
       "city                       0\n",
       "date_of_listing            0\n",
       "latitude                  34\n",
       "longitude                 34\n",
       "dtype: int64"
      ]
     },
     "execution_count": 294,
     "metadata": {},
     "output_type": "execute_result"
    }
   ],
   "execution_count": 294
  },
  {
   "metadata": {
    "ExecuteTime": {
     "end_time": "2025-07-05T20:05:31.372590Z",
     "start_time": "2025-07-05T20:05:31.205324Z"
    }
   },
   "cell_type": "code",
   "source": [
    "num_of_missing = ds.isnull().sum()\n",
    "\n",
    "plt.title('Number of missing values')\n",
    "plt.barh((num_of_missing / len(ds) * 100).index, (num_of_missing / len(ds) * 100).values)\n",
    "plt.grid(True)\n",
    "plt.show()"
   ],
   "id": "197270378dc164e6",
   "outputs": [
    {
     "data": {
      "text/plain": [
       "<Figure size 640x480 with 1 Axes>"
      ],
      "image/png": "[encoded data removed]"
     },
     "metadata": {},
     "output_type": "display_data"
    }
   ],
   "execution_count": 295
  },
  {
   "metadata": {
    "ExecuteTime": {
     "end_time": "2025-07-05T20:05:31.409399Z",
     "start_time": "2025-07-05T20:05:31.400659Z"
    }
   },
   "cell_type": "code",
   "source": "ds.dtypes",
   "id": "b8e99714194452db",
   "outputs": [
    {
     "data": {
      "text/plain": [
       "average_rate_per_night     object\n",
       "bedrooms_count             object\n",
       "city                       object\n",
       "date_of_listing            object\n",
       "latitude                  float64\n",
       "longitude                 float64\n",
       "dtype: object"
      ]
     },
     "execution_count": 296,
     "metadata": {},
     "output_type": "execute_result"
    }
   ],
   "execution_count": 296
  },
  {
   "metadata": {},
   "cell_type": "markdown",
   "source": "### Handling missing values and categorical columns",
   "id": "2e9b962654e70897"
  },
  {
   "metadata": {
    "ExecuteTime": {
     "end_time": "2025-07-05T20:05:31.484811Z",
     "start_time": "2025-07-05T20:05:31.477461Z"
    }
   },
   "cell_type": "code",
   "source": "numerical_columns = [f for f in ds.columns if ds[f].dtype != 'O']",
   "id": "1a09bff56859f7d1",
   "outputs": [],
   "execution_count": 297
  },
  {
   "metadata": {
    "ExecuteTime": {
     "end_time": "2025-07-05T20:05:31.510884Z",
     "start_time": "2025-07-05T20:05:31.503998Z"
    }
   },
   "cell_type": "code",
   "source": "numerical_columns",
   "id": "d69d27ee793bf18f",
   "outputs": [
    {
     "data": {
      "text/plain": [
       "['latitude', 'longitude']"
      ]
     },
     "execution_count": 298,
     "metadata": {},
     "output_type": "execute_result"
    }
   ],
   "execution_count": 298
  },
  {
   "metadata": {
    "ExecuteTime": {
     "end_time": "2025-07-05T20:05:31.546067Z",
     "start_time": "2025-07-05T20:05:31.534644Z"
    }
   },
   "cell_type": "code",
   "source": "categorical_columns = [f for f in ds.columns if ds[f].dtype == 'O']",
   "id": "8d017b144bd529fd",
   "outputs": [],
   "execution_count": 299
  },
  {
   "metadata": {
    "ExecuteTime": {
     "end_time": "2025-07-05T20:05:31.564548Z",
     "start_time": "2025-07-05T20:05:31.558358Z"
    }
   },
   "cell_type": "code",
   "source": "categorical_columns",
   "id": "b28b21fd138ddc26",
   "outputs": [
    {
     "data": {
      "text/plain": [
       "['average_rate_per_night', 'bedrooms_count', 'city', 'date_of_listing']"
      ]
     },
     "execution_count": 300,
     "metadata": {},
     "output_type": "execute_result"
    }
   ],
   "execution_count": 300
  },
  {
   "metadata": {
    "ExecuteTime": {
     "end_time": "2025-07-05T20:05:31.605627Z",
     "start_time": "2025-07-05T20:05:31.595422Z"
    }
   },
   "cell_type": "code",
   "source": "ds[numerical_columns].isnull().sum()",
   "id": "c76a9c30424c8f67",
   "outputs": [
    {
     "data": {
      "text/plain": [
       "latitude     34\n",
       "longitude    34\n",
       "dtype: int64"
      ]
     },
     "execution_count": 301,
     "metadata": {},
     "output_type": "execute_result"
    }
   ],
   "execution_count": 301
  },
  {
   "metadata": {
    "ExecuteTime": {
     "end_time": "2025-07-05T20:05:31.637905Z",
     "start_time": "2025-07-05T20:05:31.621206Z"
    }
   },
   "cell_type": "code",
   "source": "ds[\"average_rate_per_night\"] = ds['average_rate_per_night'].str.replace('$', '')",
   "id": "caac060b2917369f",
   "outputs": [],
   "execution_count": 302
  },
  {
   "metadata": {
    "ExecuteTime": {
     "end_time": "2025-07-05T20:05:31.708102Z",
     "start_time": "2025-07-05T20:05:31.678021Z"
    }
   },
   "cell_type": "code",
   "source": "ds.head(10)",
   "id": "1c02af39cba28f69",
   "outputs": [
    {
     "data": {
      "text/plain": [
       "  average_rate_per_night bedrooms_count         city date_of_listing  \\\n",
       "0                     27              2       Humble        May 2016   \n",
       "1                    149              4  San Antonio   November 2010   \n",
       "2                     59              1      Houston    January 2017   \n",
       "3                     60              1        Bryan   February 2016   \n",
       "4                     75              2   Fort Worth   February 2017   \n",
       "5                    250              4       Conroe     August 2016   \n",
       "6                    129              3  Cedar Creek      March 2016   \n",
       "7                     25              1   Fort Worth    January 2016   \n",
       "8                    345              3     Rockport   February 2016   \n",
       "9                     72         Studio  San Antonio     August 2013   \n",
       "\n",
       "    latitude  longitude  \n",
       "0  30.020138 -95.293996  \n",
       "1  29.503068 -98.447688  \n",
       "2  29.829352 -95.081549  \n",
       "3  30.637304 -96.337846  \n",
       "4  32.747097 -97.286434  \n",
       "5  30.370455 -95.385319  \n",
       "6  30.109838 -97.473417  \n",
       "7  32.689611 -97.298161  \n",
       "8  28.103726 -97.025832  \n",
       "9  29.480646 -98.495692  "
      ],
      "text/html": [
       "<div>\n",
       "<style scoped>\n",
       "    .dataframe tbody tr th:only-of-type {\n",
       "        vertical-align: middle;\n",
       "    }\n",
       "\n",
       "    .dataframe tbody tr th {\n",
       "        vertical-align: top;\n",
       "    }\n",
       "\n",
       "    .dataframe thead th {\n",
       "        text-align: right;\n",
       "    }\n",
       "</style>\n",
       "<table border=\"1\" class=\"dataframe\">\n",
       "  <thead>\n",
       "    <tr style=\"text-align: right;\">\n",
       "      <th></th>\n",
       "      <th>average_rate_per_night</th>\n",
       "      <th>bedrooms_count</th>\n",
       "      <th>city</th>\n",
       "      <th>date_of_listing</th>\n",
       "      <th>latitude</th>\n",
       "      <th>longitude</th>\n",
       "    </tr>\n",
       "  </thead>\n",
       "  <tbody>\n",
       "    <tr>\n",
       "      <th>0</th>\n",
       "      <td>27</td>\n",
       "      <td>2</td>\n",
       "      <td>Humble</td>\n",
       "      <td>May 2016</td>\n",
       "      <td>30.020138</td>\n",
       "      <td>-95.293996</td>\n",
       "    </tr>\n",
       "    <tr>\n",
       "      <th>1</th>\n",
       "      <td>149</td>\n",
       "      <td>4</td>\n",
       "      <td>San Antonio</td>\n",
       "      <td>November 2010</td>\n",
       "      <td>29.503068</td>\n",
       "      <td>-98.447688</td>\n",
       "    </tr>\n",
       "    <tr>\n",
       "      <th>2</th>\n",
       "      <td>59</td>\n",
       "      <td>1</td>\n",
       "      <td>Houston</td>\n",
       "      <td>January 2017</td>\n",
       "      <td>29.829352</td>\n",
       "      <td>-95.081549</td>\n",
       "    </tr>\n",
       "    <tr>\n",
       "      <th>3</th>\n",
       "      <td>60</td>\n",
       "      <td>1</td>\n",
       "      <td>Bryan</td>\n",
       "      <td>February 2016</td>\n",
       "      <td>30.637304</td>\n",
       "      <td>-96.337846</td>\n",
       "    </tr>\n",
       "    <tr>\n",
       "      <th>4</th>\n",
       "      <td>75</td>\n",
       "      <td>2</td>\n",
       "      <td>Fort Worth</td>\n",
       "      <td>February 2017</td>\n",
       "      <td>32.747097</td>\n",
       "      <td>-97.286434</td>\n",
       "    </tr>\n",
       "    <tr>\n",
       "      <th>5</th>\n",
       "      <td>250</td>\n",
       "      <td>4</td>\n",
       "      <td>Conroe</td>\n",
       "      <td>August 2016</td>\n",
       "      <td>30.370455</td>\n",
       "      <td>-95.385319</td>\n",
       "    </tr>\n",
       "    <tr>\n",
       "      <th>6</th>\n",
       "      <td>129</td>\n",
       "      <td>3</td>\n",
       "      <td>Cedar Creek</td>\n",
       "      <td>March 2016</td>\n",
       "      <td>30.109838</td>\n",
       "      <td>-97.473417</td>\n",
       "    </tr>\n",
       "    <tr>\n",
       "      <th>7</th>\n",
       "      <td>25</td>\n",
       "      <td>1</td>\n",
       "      <td>Fort Worth</td>\n",
       "      <td>January 2016</td>\n",
       "      <td>32.689611</td>\n",
       "      <td>-97.298161</td>\n",
       "    </tr>\n",
       "    <tr>\n",
       "      <th>8</th>\n",
       "      <td>345</td>\n",
       "      <td>3</td>\n",
       "      <td>Rockport</td>\n",
       "      <td>February 2016</td>\n",
       "      <td>28.103726</td>\n",
       "      <td>-97.025832</td>\n",
       "    </tr>\n",
       "    <tr>\n",
       "      <th>9</th>\n",
       "      <td>72</td>\n",
       "      <td>Studio</td>\n",
       "      <td>San Antonio</td>\n",
       "      <td>August 2013</td>\n",
       "      <td>29.480646</td>\n",
       "      <td>-98.495692</td>\n",
       "    </tr>\n",
       "  </tbody>\n",
       "</table>\n",
       "</div>"
      ]
     },
     "execution_count": 303,
     "metadata": {},
     "output_type": "execute_result"
    }
   ],
   "execution_count": 303
  },
  {
   "metadata": {
    "ExecuteTime": {
     "end_time": "2025-07-05T20:05:31.756178Z",
     "start_time": "2025-07-05T20:05:31.739376Z"
    }
   },
   "cell_type": "code",
   "source": "ds['average_rate_per_night'] = ds['average_rate_per_night'].astype('float')",
   "id": "a69ea6f9de1bd73e",
   "outputs": [],
   "execution_count": 304
  },
  {
   "metadata": {
    "ExecuteTime": {
     "end_time": "2025-07-05T20:05:31.782412Z",
     "start_time": "2025-07-05T20:05:31.772176Z"
    }
   },
   "cell_type": "code",
   "source": "ds.dtypes",
   "id": "1f2d4003827b9403",
   "outputs": [
    {
     "data": {
      "text/plain": [
       "average_rate_per_night    float64\n",
       "bedrooms_count             object\n",
       "city                       object\n",
       "date_of_listing            object\n",
       "latitude                  float64\n",
       "longitude                 float64\n",
       "dtype: object"
      ]
     },
     "execution_count": 305,
     "metadata": {},
     "output_type": "execute_result"
    }
   ],
   "execution_count": 305
  },
  {
   "metadata": {
    "ExecuteTime": {
     "end_time": "2025-07-05T20:05:31.835752Z",
     "start_time": "2025-07-05T20:05:31.812170Z"
    }
   },
   "cell_type": "code",
   "source": "ds.head(10)",
   "id": "1e28bd87a7fc9b3c",
   "outputs": [
    {
     "data": {
      "text/plain": [
       "   average_rate_per_night bedrooms_count         city date_of_listing  \\\n",
       "0                    27.0              2       Humble        May 2016   \n",
       "1                   149.0              4  San Antonio   November 2010   \n",
       "2                    59.0              1      Houston    January 2017   \n",
       "3                    60.0              1        Bryan   February 2016   \n",
       "4                    75.0              2   Fort Worth   February 2017   \n",
       "5                   250.0              4       Conroe     August 2016   \n",
       "6                   129.0              3  Cedar Creek      March 2016   \n",
       "7                    25.0              1   Fort Worth    January 2016   \n",
       "8                   345.0              3     Rockport   February 2016   \n",
       "9                    72.0         Studio  San Antonio     August 2013   \n",
       "\n",
       "    latitude  longitude  \n",
       "0  30.020138 -95.293996  \n",
       "1  29.503068 -98.447688  \n",
       "2  29.829352 -95.081549  \n",
       "3  30.637304 -96.337846  \n",
       "4  32.747097 -97.286434  \n",
       "5  30.370455 -95.385319  \n",
       "6  30.109838 -97.473417  \n",
       "7  32.689611 -97.298161  \n",
       "8  28.103726 -97.025832  \n",
       "9  29.480646 -98.495692  "
      ],
      "text/html": [
       "<div>\n",
       "<style scoped>\n",
       "    .dataframe tbody tr th:only-of-type {\n",
       "        vertical-align: middle;\n",
       "    }\n",
       "\n",
       "    .dataframe tbody tr th {\n",
       "        vertical-align: top;\n",
       "    }\n",
       "\n",
       "    .dataframe thead th {\n",
       "        text-align: right;\n",
       "    }\n",
       "</style>\n",
       "<table border=\"1\" class=\"dataframe\">\n",
       "  <thead>\n",
       "    <tr style=\"text-align: right;\">\n",
       "      <th></th>\n",
       "      <th>average_rate_per_night</th>\n",
       "      <th>bedrooms_count</th>\n",
       "      <th>city</th>\n",
       "      <th>date_of_listing</th>\n",
       "      <th>latitude</th>\n",
       "      <th>longitude</th>\n",
       "    </tr>\n",
       "  </thead>\n",
       "  <tbody>\n",
       "    <tr>\n",
       "      <th>0</th>\n",
       "      <td>27.0</td>\n",
       "      <td>2</td>\n",
       "      <td>Humble</td>\n",
       "      <td>May 2016</td>\n",
       "      <td>30.020138</td>\n",
       "      <td>-95.293996</td>\n",
       "    </tr>\n",
       "    <tr>\n",
       "      <th>1</th>\n",
       "      <td>149.0</td>\n",
       "      <td>4</td>\n",
       "      <td>San Antonio</td>\n",
       "      <td>November 2010</td>\n",
       "      <td>29.503068</td>\n",
       "      <td>-98.447688</td>\n",
       "    </tr>\n",
       "    <tr>\n",
       "      <th>2</th>\n",
       "      <td>59.0</td>\n",
       "      <td>1</td>\n",
       "      <td>Houston</td>\n",
       "      <td>January 2017</td>\n",
       "      <td>29.829352</td>\n",
       "      <td>-95.081549</td>\n",
       "    </tr>\n",
       "    <tr>\n",
       "      <th>3</th>\n",
       "      <td>60.0</td>\n",
       "      <td>1</td>\n",
       "      <td>Bryan</td>\n",
       "      <td>February 2016</td>\n",
       "      <td>30.637304</td>\n",
       "      <td>-96.337846</td>\n",
       "    </tr>\n",
       "    <tr>\n",
       "      <th>4</th>\n",
       "      <td>75.0</td>\n",
       "      <td>2</td>\n",
       "      <td>Fort Worth</td>\n",
       "      <td>February 2017</td>\n",
       "      <td>32.747097</td>\n",
       "      <td>-97.286434</td>\n",
       "    </tr>\n",
       "    <tr>\n",
       "      <th>5</th>\n",
       "      <td>250.0</td>\n",
       "      <td>4</td>\n",
       "      <td>Conroe</td>\n",
       "      <td>August 2016</td>\n",
       "      <td>30.370455</td>\n",
       "      <td>-95.385319</td>\n",
       "    </tr>\n",
       "    <tr>\n",
       "      <th>6</th>\n",
       "      <td>129.0</td>\n",
       "      <td>3</td>\n",
       "      <td>Cedar Creek</td>\n",
       "      <td>March 2016</td>\n",
       "      <td>30.109838</td>\n",
       "      <td>-97.473417</td>\n",
       "    </tr>\n",
       "    <tr>\n",
       "      <th>7</th>\n",
       "      <td>25.0</td>\n",
       "      <td>1</td>\n",
       "      <td>Fort Worth</td>\n",
       "      <td>January 2016</td>\n",
       "      <td>32.689611</td>\n",
       "      <td>-97.298161</td>\n",
       "    </tr>\n",
       "    <tr>\n",
       "      <th>8</th>\n",
       "      <td>345.0</td>\n",
       "      <td>3</td>\n",
       "      <td>Rockport</td>\n",
       "      <td>February 2016</td>\n",
       "      <td>28.103726</td>\n",
       "      <td>-97.025832</td>\n",
       "    </tr>\n",
       "    <tr>\n",
       "      <th>9</th>\n",
       "      <td>72.0</td>\n",
       "      <td>Studio</td>\n",
       "      <td>San Antonio</td>\n",
       "      <td>August 2013</td>\n",
       "      <td>29.480646</td>\n",
       "      <td>-98.495692</td>\n",
       "    </tr>\n",
       "  </tbody>\n",
       "</table>\n",
       "</div>"
      ]
     },
     "execution_count": 306,
     "metadata": {},
     "output_type": "execute_result"
    }
   ],
   "execution_count": 306
  },
  {
   "metadata": {
    "ExecuteTime": {
     "end_time": "2025-07-05T20:05:31.876161Z",
     "start_time": "2025-07-05T20:05:31.862087Z"
    }
   },
   "cell_type": "code",
   "source": [
    "categorical_columns.remove('average_rate_per_night')\n",
    "numerical_columns.append('average_rate_per_night')"
   ],
   "id": "f3a36ed696e5a6a5",
   "outputs": [],
   "execution_count": 307
  },
  {
   "metadata": {
    "ExecuteTime": {
     "end_time": "2025-07-05T20:05:31.905517Z",
     "start_time": "2025-07-05T20:05:31.892046Z"
    }
   },
   "cell_type": "code",
   "source": [
    "for f in categorical_columns:\n",
    "    print(f, ds[f].nunique())"
   ],
   "id": "2420e3d8449deb9a",
   "outputs": [
    {
     "name": "stdout",
     "output_type": "stream",
     "text": [
      "bedrooms_count 13\n",
      "city 505\n",
      "date_of_listing 102\n"
     ]
    }
   ],
   "execution_count": 308
  },
  {
   "metadata": {
    "ExecuteTime": {
     "end_time": "2025-07-05T20:05:31.983329Z",
     "start_time": "2025-07-05T20:05:31.972564Z"
    }
   },
   "cell_type": "code",
   "source": "ds['bedrooms_count'].unique()",
   "id": "fd4a47243dc6b483",
   "outputs": [
    {
     "data": {
      "text/plain": [
       "array(['2', '4', '1', '3', 'Studio', '7', '5', '8', '6', '9', '11', nan,\n",
       "       '13', '10'], dtype=object)"
      ]
     },
     "execution_count": 309,
     "metadata": {},
     "output_type": "execute_result"
    }
   ],
   "execution_count": 309
  },
  {
   "metadata": {
    "ExecuteTime": {
     "end_time": "2025-07-05T20:05:32.062058Z",
     "start_time": "2025-07-05T20:05:32.052076Z"
    }
   },
   "cell_type": "code",
   "source": "ds['bedrooms_count'] = ds['bedrooms_count'].replace('Studio', 0)",
   "id": "4401a5ec08934e22",
   "outputs": [],
   "execution_count": 310
  },
  {
   "metadata": {
    "ExecuteTime": {
     "end_time": "2025-07-05T20:05:33.731452Z",
     "start_time": "2025-07-05T20:05:33.725893Z"
    }
   },
   "cell_type": "code",
   "source": [
    "categorical_columns.remove('bedrooms_count')\n",
    "numerical_columns.append('bedrooms_count')"
   ],
   "id": "a8d9815fe9ceab9d",
   "outputs": [],
   "execution_count": 311
  },
  {
   "metadata": {
    "ExecuteTime": {
     "end_time": "2025-07-05T20:06:30.625204Z",
     "start_time": "2025-07-05T20:06:30.612414Z"
    }
   },
   "cell_type": "code",
   "source": "ds['bedrooms_count'] = ds['bedrooms_count'].astype('float')",
   "id": "9f15dd6347835ea3",
   "outputs": [],
   "execution_count": 316
  },
  {
   "metadata": {
    "ExecuteTime": {
     "end_time": "2025-07-05T20:06:33.063266Z",
     "start_time": "2025-07-05T20:06:33.042509Z"
    }
   },
   "cell_type": "code",
   "source": "ds[numerical_columns].dtypes",
   "id": "738217fcd5a8dc39",
   "outputs": [
    {
     "data": {
      "text/plain": [
       "latitude                  float64\n",
       "longitude                 float64\n",
       "average_rate_per_night    float64\n",
       "bedrooms_count            float64\n",
       "dtype: object"
      ]
     },
     "execution_count": 317,
     "metadata": {},
     "output_type": "execute_result"
    }
   ],
   "execution_count": 317
  },
  {
   "metadata": {
    "ExecuteTime": {
     "end_time": "2025-07-05T20:06:51.164267Z",
     "start_time": "2025-07-05T20:06:51.120577Z"
    }
   },
   "cell_type": "code",
   "source": [
    "imp = SimpleImputer(strategy=\"most_frequent\", fill_value=np.nan)\n",
    "imp.fit(ds[numerical_columns])"
   ],
   "id": "73e86fc8a9f6abeb",
   "outputs": [
    {
     "data": {
      "text/plain": [
       "SimpleImputer(fill_value=nan, strategy='most_frequent')"
      ],
      "text/html": [
       "<style>#sk-container-id-8 {\n",
       "  /* Definition of color scheme common for light and dark mode */\n",
       "  --sklearn-color-text: #000;\n",
       "  --sklearn-color-text-muted: #666;\n",
       "  --sklearn-color-line: gray;\n",
       "  /* Definition of color scheme for unfitted estimators */\n",
       "  --sklearn-color-unfitted-level-0: #fff5e6;\n",
       "  --sklearn-color-unfitted-level-1: #f6e4d2;\n",
       "  --sklearn-color-unfitted-level-2: #ffe0b3;\n",
       "  --sklearn-color-unfitted-level-3: chocolate;\n",
       "  /* Definition of color scheme for fitted estimators */\n",
       "  --sklearn-color-fitted-level-0: #f0f8ff;\n",
       "  --sklearn-color-fitted-level-1: #d4ebff;\n",
       "  --sklearn-color-fitted-level-2: #b3dbfd;\n",
       "  --sklearn-color-fitted-level-3: cornflowerblue;\n",
       "\n",
       "  /* Specific color for light theme */\n",
       "  --sklearn-color-text-on-default-background: var(--sg-text-color, var(--theme-code-foreground, var(--jp-content-font-color1, black)));\n",
       "  --sklearn-color-background: var(--sg-background-color, var(--theme-background, var(--jp-layout-color0, white)));\n",
       "  --sklearn-color-border-box: var(--sg-text-color, var(--theme-code-foreground, var(--jp-content-font-color1, black)));\n",
       "  --sklearn-color-icon: #696969;\n",
       "\n",
       "  @media (prefers-color-scheme: dark) {\n",
       "    /* Redefinition of color scheme for dark theme */\n",
       "    --sklearn-color-text-on-default-background: var(--sg-text-color, var(--theme-code-foreground, var(--jp-content-font-color1, white)));\n",
       "    --sklearn-color-background: var(--sg-background-color, var(--theme-background, var(--jp-layout-color0, #111)));\n",
       "    --sklearn-color-border-box: var(--sg-text-color, var(--theme-code-foreground, var(--jp-content-font-color1, white)));\n",
       "    --sklearn-color-icon: #878787;\n",
       "  }\n",
       "}\n",
       "\n",
       "#sk-container-id-8 {\n",
       "  color: var(--sklearn-color-text);\n",
       "}\n",
       "\n",
       "#sk-container-id-8 pre {\n",
       "  padding: 0;\n",
       "}\n",
       "\n",
       "#sk-container-id-8 input.sk-hidden--visually {\n",
       "  border: 0;\n",
       "  clip: rect(1px 1px 1px 1px);\n",
       "  clip: rect(1px, 1px, 1px, 1px);\n",
       "  height: 1px;\n",
       "  margin: -1px;\n",
       "  overflow: hidden;\n",
       "  padding: 0;\n",
       "  position: absolute;\n",
       "  width: 1px;\n",
       "}\n",
       "\n",
       "#sk-container-id-8 div.sk-dashed-wrapped {\n",
       "  border: 1px dashed var(--sklearn-color-line);\n",
       "  margin: 0 0.4em 0.5em 0.4em;\n",
       "  box-sizing: border-box;\n",
       "  padding-bottom: 0.4em;\n",
       "  background-color: var(--sklearn-color-background);\n",
       "}\n",
       "\n",
       "#sk-container-id-8 div.sk-container {\n",
       "  /* jupyter's `normalize.less` sets `[hidden] { display: none; }`\n",
       "     but bootstrap.min.css set `[hidden] { display: none !important; }`\n",
       "     so we also need the `!important` here to be able to override the\n",
       "     default hidden behavior on the sphinx rendered scikit-learn.org.\n",
       "     See: https://github.com/scikit-learn/scikit-learn/issues/21755 */\n",
       "  display: inline-block !important;\n",
       "  position: relative;\n",
       "}\n",
       "\n",
       "#sk-container-id-8 div.sk-text-repr-fallback {\n",
       "  display: none;\n",
       "}\n",
       "\n",
       "div.sk-parallel-item,\n",
       "div.sk-serial,\n",
       "div.sk-item {\n",
       "  /* draw centered vertical line to link estimators */\n",
       "  background-image: linear-gradient(var(--sklearn-color-text-on-default-background), var(--sklearn-color-text-on-default-background));\n",
       "  background-size: 2px 100%;\n",
       "  background-repeat: no-repeat;\n",
       "  background-position: center center;\n",
       "}\n",
       "\n",
       "/* Parallel-specific style estimator block */\n",
       "\n",
       "#sk-container-id-8 div.sk-parallel-item::after {\n",
       "  content: \"\";\n",
       "  width: 100%;\n",
       "  border-bottom: 2px solid var(--sklearn-color-text-on-default-background);\n",
       "  flex-grow: 1;\n",
       "}\n",
       "\n",
       "#sk-container-id-8 div.sk-parallel {\n",
       "  display: flex;\n",
       "  align-items: stretch;\n",
       "  justify-content: center;\n",
       "  background-color: var(--sklearn-color-background);\n",
       "  position: relative;\n",
       "}\n",
       "\n",
       "#sk-container-id-8 div.sk-parallel-item {\n",
       "  display: flex;\n",
       "  flex-direction: column;\n",
       "}\n",
       "\n",
       "#sk-container-id-8 div.sk-parallel-item:first-child::after {\n",
       "  align-self: flex-end;\n",
       "  width: 50%;\n",
       "}\n",
       "\n",
       "#sk-container-id-8 div.sk-parallel-item:last-child::after {\n",
       "  align-self: flex-start;\n",
       "  width: 50%;\n",
       "}\n",
       "\n",
       "#sk-container-id-8 div.sk-parallel-item:only-child::after {\n",
       "  width: 0;\n",
       "}\n",
       "\n",
       "/* Serial-specific style estimator block */\n",
       "\n",
       "#sk-container-id-8 div.sk-serial {\n",
       "  display: flex;\n",
       "  flex-direction: column;\n",
       "  align-items: center;\n",
       "  background-color: var(--sklearn-color-background);\n",
       "  padding-right: 1em;\n",
       "  padding-left: 1em;\n",
       "}\n",
       "\n",
       "\n",
       "/* Toggleable style: style used for estimator/Pipeline/ColumnTransformer box that is\n",
       "clickable and can be expanded/collapsed.\n",
       "- Pipeline and ColumnTransformer use this feature and define the default style\n",
       "- Estimators will overwrite some part of the style using the `sk-estimator` class\n",
       "*/\n",
       "\n",
       "/* Pipeline and ColumnTransformer style (default) */\n",
       "\n",
       "#sk-container-id-8 div.sk-toggleable {\n",
       "  /* Default theme specific background. It is overwritten whether we have a\n",
       "  specific estimator or a Pipeline/ColumnTransformer */\n",
       "  background-color: var(--sklearn-color-background);\n",
       "}\n",
       "\n",
       "/* Toggleable label */\n",
       "#sk-container-id-8 label.sk-toggleable__label {\n",
       "  cursor: pointer;\n",
       "  display: flex;\n",
       "  width: 100%;\n",
       "  margin-bottom: 0;\n",
       "  padding: 0.5em;\n",
       "  box-sizing: border-box;\n",
       "  text-align: center;\n",
       "  align-items: start;\n",
       "  justify-content: space-between;\n",
       "  gap: 0.5em;\n",
       "}\n",
       "\n",
       "#sk-container-id-8 label.sk-toggleable__label .caption {\n",
       "  font-size: 0.6rem;\n",
       "  font-weight: lighter;\n",
       "  color: var(--sklearn-color-text-muted);\n",
       "}\n",
       "\n",
       "#sk-container-id-8 label.sk-toggleable__label-arrow:before {\n",
       "  /* Arrow on the left of the label */\n",
       "  content: \"▸\";\n",
       "  float: left;\n",
       "  margin-right: 0.25em;\n",
       "  color: var(--sklearn-color-icon);\n",
       "}\n",
       "\n",
       "#sk-container-id-8 label.sk-toggleable__label-arrow:hover:before {\n",
       "  color: var(--sklearn-color-text);\n",
       "}\n",
       "\n",
       "/* Toggleable content - dropdown */\n",
       "\n",
       "#sk-container-id-8 div.sk-toggleable__content {\n",
       "  max-height: 0;\n",
       "  max-width: 0;\n",
       "  overflow: hidden;\n",
       "  text-align: left;\n",
       "  /* unfitted */\n",
       "  background-color: var(--sklearn-color-unfitted-level-0);\n",
       "}\n",
       "\n",
       "#sk-container-id-8 div.sk-toggleable__content.fitted {\n",
       "  /* fitted */\n",
       "  background-color: var(--sklearn-color-fitted-level-0);\n",
       "}\n",
       "\n",
       "#sk-container-id-8 div.sk-toggleable__content pre {\n",
       "  margin: 0.2em;\n",
       "  border-radius: 0.25em;\n",
       "  color: var(--sklearn-color-text);\n",
       "  /* unfitted */\n",
       "  background-color: var(--sklearn-color-unfitted-level-0);\n",
       "}\n",
       "\n",
       "#sk-container-id-8 div.sk-toggleable__content.fitted pre {\n",
       "  /* unfitted */\n",
       "  background-color: var(--sklearn-color-fitted-level-0);\n",
       "}\n",
       "\n",
       "#sk-container-id-8 input.sk-toggleable__control:checked~div.sk-toggleable__content {\n",
       "  /* Expand drop-down */\n",
       "  max-height: 200px;\n",
       "  max-width: 100%;\n",
       "  overflow: auto;\n",
       "}\n",
       "\n",
       "#sk-container-id-8 input.sk-toggleable__control:checked~label.sk-toggleable__label-arrow:before {\n",
       "  content: \"▾\";\n",
       "}\n",
       "\n",
       "/* Pipeline/ColumnTransformer-specific style */\n",
       "\n",
       "#sk-container-id-8 div.sk-label input.sk-toggleable__control:checked~label.sk-toggleable__label {\n",
       "  color: var(--sklearn-color-text);\n",
       "  background-color: var(--sklearn-color-unfitted-level-2);\n",
       "}\n",
       "\n",
       "#sk-container-id-8 div.sk-label.fitted input.sk-toggleable__control:checked~label.sk-toggleable__label {\n",
       "  background-color: var(--sklearn-color-fitted-level-2);\n",
       "}\n",
       "\n",
       "/* Estimator-specific style */\n",
       "\n",
       "/* Colorize estimator box */\n",
       "#sk-container-id-8 div.sk-estimator input.sk-toggleable__control:checked~label.sk-toggleable__label {\n",
       "  /* unfitted */\n",
       "  background-color: var(--sklearn-color-unfitted-level-2);\n",
       "}\n",
       "\n",
       "#sk-container-id-8 div.sk-estimator.fitted input.sk-toggleable__control:checked~label.sk-toggleable__label {\n",
       "  /* fitted */\n",
       "  background-color: var(--sklearn-color-fitted-level-2);\n",
       "}\n",
       "\n",
       "#sk-container-id-8 div.sk-label label.sk-toggleable__label,\n",
       "#sk-container-id-8 div.sk-label label {\n",
       "  /* The background is the default theme color */\n",
       "  color: var(--sklearn-color-text-on-default-background);\n",
       "}\n",
       "\n",
       "/* On hover, darken the color of the background */\n",
       "#sk-container-id-8 div.sk-label:hover label.sk-toggleable__label {\n",
       "  color: var(--sklearn-color-text);\n",
       "  background-color: var(--sklearn-color-unfitted-level-2);\n",
       "}\n",
       "\n",
       "/* Label box, darken color on hover, fitted */\n",
       "#sk-container-id-8 div.sk-label.fitted:hover label.sk-toggleable__label.fitted {\n",
       "  color: var(--sklearn-color-text);\n",
       "  background-color: var(--sklearn-color-fitted-level-2);\n",
       "}\n",
       "\n",
       "/* Estimator label */\n",
       "\n",
       "#sk-container-id-8 div.sk-label label {\n",
       "  font-family: monospace;\n",
       "  font-weight: bold;\n",
       "  display: inline-block;\n",
       "  line-height: 1.2em;\n",
       "}\n",
       "\n",
       "#sk-container-id-8 div.sk-label-container {\n",
       "  text-align: center;\n",
       "}\n",
       "\n",
       "/* Estimator-specific */\n",
       "#sk-container-id-8 div.sk-estimator {\n",
       "  font-family: monospace;\n",
       "  border: 1px dotted var(--sklearn-color-border-box);\n",
       "  border-radius: 0.25em;\n",
       "  box-sizing: border-box;\n",
       "  margin-bottom: 0.5em;\n",
       "  /* unfitted */\n",
       "  background-color: var(--sklearn-color-unfitted-level-0);\n",
       "}\n",
       "\n",
       "#sk-container-id-8 div.sk-estimator.fitted {\n",
       "  /* fitted */\n",
       "  background-color: var(--sklearn-color-fitted-level-0);\n",
       "}\n",
       "\n",
       "/* on hover */\n",
       "#sk-container-id-8 div.sk-estimator:hover {\n",
       "  /* unfitted */\n",
       "  background-color: var(--sklearn-color-unfitted-level-2);\n",
       "}\n",
       "\n",
       "#sk-container-id-8 div.sk-estimator.fitted:hover {\n",
       "  /* fitted */\n",
       "  background-color: var(--sklearn-color-fitted-level-2);\n",
       "}\n",
       "\n",
       "/* Specification for estimator info (e.g. \"i\" and \"?\") */\n",
       "\n",
       "/* Common style for \"i\" and \"?\" */\n",
       "\n",
       ".sk-estimator-doc-link,\n",
       "a:link.sk-estimator-doc-link,\n",
       "a:visited.sk-estimator-doc-link {\n",
       "  float: right;\n",
       "  font-size: smaller;\n",
       "  line-height: 1em;\n",
       "  font-family: monospace;\n",
       "  background-color: var(--sklearn-color-background);\n",
       "  border-radius: 1em;\n",
       "  height: 1em;\n",
       "  width: 1em;\n",
       "  text-decoration: none !important;\n",
       "  margin-left: 0.5em;\n",
       "  text-align: center;\n",
       "  /* unfitted */\n",
       "  border: var(--sklearn-color-unfitted-level-1) 1pt solid;\n",
       "  color: var(--sklearn-color-unfitted-level-1);\n",
       "}\n",
       "\n",
       ".sk-estimator-doc-link.fitted,\n",
       "a:link.sk-estimator-doc-link.fitted,\n",
       "a:visited.sk-estimator-doc-link.fitted {\n",
       "  /* fitted */\n",
       "  border: var(--sklearn-color-fitted-level-1) 1pt solid;\n",
       "  color: var(--sklearn-color-fitted-level-1);\n",
       "}\n",
       "\n",
       "/* On hover */\n",
       "div.sk-estimator:hover .sk-estimator-doc-link:hover,\n",
       ".sk-estimator-doc-link:hover,\n",
       "div.sk-label-container:hover .sk-estimator-doc-link:hover,\n",
       ".sk-estimator-doc-link:hover {\n",
       "  /* unfitted */\n",
       "  background-color: var(--sklearn-color-unfitted-level-3);\n",
       "  color: var(--sklearn-color-background);\n",
       "  text-decoration: none;\n",
       "}\n",
       "\n",
       "div.sk-estimator.fitted:hover .sk-estimator-doc-link.fitted:hover,\n",
       ".sk-estimator-doc-link.fitted:hover,\n",
       "div.sk-label-container:hover .sk-estimator-doc-link.fitted:hover,\n",
       ".sk-estimator-doc-link.fitted:hover {\n",
       "  /* fitted */\n",
       "  background-color: var(--sklearn-color-fitted-level-3);\n",
       "  color: var(--sklearn-color-background);\n",
       "  text-decoration: none;\n",
       "}\n",
       "\n",
       "/* Span, style for the box shown on hovering the info icon */\n",
       ".sk-estimator-doc-link span {\n",
       "  display: none;\n",
       "  z-index: 9999;\n",
       "  position: relative;\n",
       "  font-weight: normal;\n",
       "  right: .2ex;\n",
       "  padding: .5ex;\n",
       "  margin: .5ex;\n",
       "  width: min-content;\n",
       "  min-width: 20ex;\n",
       "  max-width: 50ex;\n",
       "  color: var(--sklearn-color-text);\n",
       "  box-shadow: 2pt 2pt 4pt #999;\n",
       "  /* unfitted */\n",
       "  background: var(--sklearn-color-unfitted-level-0);\n",
       "  border: .5pt solid var(--sklearn-color-unfitted-level-3);\n",
       "}\n",
       "\n",
       ".sk-estimator-doc-link.fitted span {\n",
       "  /* fitted */\n",
       "  background: var(--sklearn-color-fitted-level-0);\n",
       "  border: var(--sklearn-color-fitted-level-3);\n",
       "}\n",
       "\n",
       ".sk-estimator-doc-link:hover span {\n",
       "  display: block;\n",
       "}\n",
       "\n",
       "/* \"?\"-specific style due to the `<a>` HTML tag */\n",
       "\n",
       "#sk-container-id-8 a.estimator_doc_link {\n",
       "  float: right;\n",
       "  font-size: 1rem;\n",
       "  line-height: 1em;\n",
       "  font-family: monospace;\n",
       "  background-color: var(--sklearn-color-background);\n",
       "  border-radius: 1rem;\n",
       "  height: 1rem;\n",
       "  width: 1rem;\n",
       "  text-decoration: none;\n",
       "  /* unfitted */\n",
       "  color: var(--sklearn-color-unfitted-level-1);\n",
       "  border: var(--sklearn-color-unfitted-level-1) 1pt solid;\n",
       "}\n",
       "\n",
       "#sk-container-id-8 a.estimator_doc_link.fitted {\n",
       "  /* fitted */\n",
       "  border: var(--sklearn-color-fitted-level-1) 1pt solid;\n",
       "  color: var(--sklearn-color-fitted-level-1);\n",
       "}\n",
       "\n",
       "/* On hover */\n",
       "#sk-container-id-8 a.estimator_doc_link:hover {\n",
       "  /* unfitted */\n",
       "  background-color: var(--sklearn-color-unfitted-level-3);\n",
       "  color: var(--sklearn-color-background);\n",
       "  text-decoration: none;\n",
       "}\n",
       "\n",
       "#sk-container-id-8 a.estimator_doc_link.fitted:hover {\n",
       "  /* fitted */\n",
       "  background-color: var(--sklearn-color-fitted-level-3);\n",
       "}\n",
       "</style><div id=\"sk-container-id-8\" class=\"sk-top-container\"><div class=\"sk-text-repr-fallback\"><pre>SimpleImputer(fill_value=nan, strategy=&#x27;most_frequent&#x27;)</pre><b>In a Jupyter environment, please rerun this cell to show the HTML representation or trust the notebook. <br />On GitHub, the HTML representation is unable to render, please try loading this page with nbviewer.org.</b></div><div class=\"sk-container\" hidden><div class=\"sk-item\"><div class=\"sk-estimator fitted sk-toggleable\"><input class=\"sk-toggleable__control sk-hidden--visually\" id=\"sk-estimator-id-8\" type=\"checkbox\" checked><label for=\"sk-estimator-id-8\" class=\"sk-toggleable__label fitted sk-toggleable__label-arrow\"><div><div>SimpleImputer</div></div><div><a class=\"sk-estimator-doc-link fitted\" rel=\"noreferrer\" target=\"_blank\" href=\"https://scikit-learn.org/1.6/modules/generated/sklearn.impute.SimpleImputer.html\">?<span>Documentation for SimpleImputer</span></a><span class=\"sk-estimator-doc-link fitted\">i<span>Fitted</span></span></div></label><div class=\"sk-toggleable__content fitted\"><pre>SimpleImputer(fill_value=nan, strategy=&#x27;most_frequent&#x27;)</pre></div> </div></div></div></div>"
      ]
     },
     "execution_count": 318,
     "metadata": {},
     "output_type": "execute_result"
    }
   ],
   "execution_count": 318
  },
  {
   "metadata": {
    "ExecuteTime": {
     "end_time": "2025-07-05T20:06:59.956143Z",
     "start_time": "2025-07-05T20:06:59.946280Z"
    }
   },
   "cell_type": "code",
   "source": "ds[numerical_columns] = imp.transform(ds[numerical_columns])",
   "id": "537a2cdbf539f73",
   "outputs": [],
   "execution_count": 319
  },
  {
   "metadata": {
    "ExecuteTime": {
     "end_time": "2025-07-05T20:07:14.900844Z",
     "start_time": "2025-07-05T20:07:14.889704Z"
    }
   },
   "cell_type": "code",
   "source": "ds[numerical_columns].isnull().sum()",
   "id": "d9163c05e3dfc500",
   "outputs": [
    {
     "data": {
      "text/plain": [
       "latitude                  0\n",
       "longitude                 0\n",
       "average_rate_per_night    0\n",
       "bedrooms_count            0\n",
       "dtype: int64"
      ]
     },
     "execution_count": 320,
     "metadata": {},
     "output_type": "execute_result"
    }
   ],
   "execution_count": 320
  },
  {
   "metadata": {},
   "cell_type": "markdown",
   "source": "### As we have a lot of unique values in the city column, we encode the column using Hashing method",
   "id": "e55eb31a869c64ac"
  },
  {
   "metadata": {
    "ExecuteTime": {
     "end_time": "2025-07-05T20:09:37.269355Z",
     "start_time": "2025-07-05T20:09:37.252029Z"
    }
   },
   "cell_type": "code",
   "source": [
    "Temp_feature = 'date_of_listing'\n",
    "categorical_columns.remove(Temp_feature)"
   ],
   "id": "cd0636d777484c81",
   "outputs": [],
   "execution_count": 323
  },
  {
   "metadata": {
    "ExecuteTime": {
     "end_time": "2025-07-05T20:09:45.680915Z",
     "start_time": "2025-07-05T20:09:45.671961Z"
    }
   },
   "cell_type": "code",
   "source": [
    "dictionary = {}\n",
    "\n",
    "for f in categorical_columns:\n",
    "    n = 1\n",
    "    dictionary[f] = {}\n",
    "    for unique in ds[f].unique():\n",
    "        dictionary[f][unique] = n\n",
    "        n += 1"
   ],
   "id": "4ce09d6de0afba0d",
   "outputs": [],
   "execution_count": 324
  },
  {
   "metadata": {
    "ExecuteTime": {
     "end_time": "2025-07-05T20:09:48.249982Z",
     "start_time": "2025-07-05T20:09:48.242365Z"
    }
   },
   "cell_type": "code",
   "source": [
    "for feature in categorical_columns:\n",
    "    ds[feature] = ds[feature].map(dictionary[feature])"
   ],
   "id": "15a31103573bdc20",
   "outputs": [],
   "execution_count": 325
  },
  {
   "metadata": {
    "ExecuteTime": {
     "end_time": "2025-07-05T20:09:50.620365Z",
     "start_time": "2025-07-05T20:09:50.600760Z"
    }
   },
   "cell_type": "code",
   "source": "ds.head()",
   "id": "8415630bc99be228",
   "outputs": [
    {
     "data": {
      "text/plain": [
       "   average_rate_per_night  bedrooms_count  city date_of_listing   latitude  \\\n",
       "0                    27.0             2.0     1        May 2016  30.020138   \n",
       "1                   149.0             4.0     2   November 2010  29.503068   \n",
       "2                    59.0             1.0     3    January 2017  29.829352   \n",
       "3                    60.0             1.0     4   February 2016  30.637304   \n",
       "4                    75.0             2.0     5   February 2017  32.747097   \n",
       "\n",
       "   longitude  \n",
       "0 -95.293996  \n",
       "1 -98.447688  \n",
       "2 -95.081549  \n",
       "3 -96.337846  \n",
       "4 -97.286434  "
      ],
      "text/html": [
       "<div>\n",
       "<style scoped>\n",
       "    .dataframe tbody tr th:only-of-type {\n",
       "        vertical-align: middle;\n",
       "    }\n",
       "\n",
       "    .dataframe tbody tr th {\n",
       "        vertical-align: top;\n",
       "    }\n",
       "\n",
       "    .dataframe thead th {\n",
       "        text-align: right;\n",
       "    }\n",
       "</style>\n",
       "<table border=\"1\" class=\"dataframe\">\n",
       "  <thead>\n",
       "    <tr style=\"text-align: right;\">\n",
       "      <th></th>\n",
       "      <th>average_rate_per_night</th>\n",
       "      <th>bedrooms_count</th>\n",
       "      <th>city</th>\n",
       "      <th>date_of_listing</th>\n",
       "      <th>latitude</th>\n",
       "      <th>longitude</th>\n",
       "    </tr>\n",
       "  </thead>\n",
       "  <tbody>\n",
       "    <tr>\n",
       "      <th>0</th>\n",
       "      <td>27.0</td>\n",
       "      <td>2.0</td>\n",
       "      <td>1</td>\n",
       "      <td>May 2016</td>\n",
       "      <td>30.020138</td>\n",
       "      <td>-95.293996</td>\n",
       "    </tr>\n",
       "    <tr>\n",
       "      <th>1</th>\n",
       "      <td>149.0</td>\n",
       "      <td>4.0</td>\n",
       "      <td>2</td>\n",
       "      <td>November 2010</td>\n",
       "      <td>29.503068</td>\n",
       "      <td>-98.447688</td>\n",
       "    </tr>\n",
       "    <tr>\n",
       "      <th>2</th>\n",
       "      <td>59.0</td>\n",
       "      <td>1.0</td>\n",
       "      <td>3</td>\n",
       "      <td>January 2017</td>\n",
       "      <td>29.829352</td>\n",
       "      <td>-95.081549</td>\n",
       "    </tr>\n",
       "    <tr>\n",
       "      <th>3</th>\n",
       "      <td>60.0</td>\n",
       "      <td>1.0</td>\n",
       "      <td>4</td>\n",
       "      <td>February 2016</td>\n",
       "      <td>30.637304</td>\n",
       "      <td>-96.337846</td>\n",
       "    </tr>\n",
       "    <tr>\n",
       "      <th>4</th>\n",
       "      <td>75.0</td>\n",
       "      <td>2.0</td>\n",
       "      <td>5</td>\n",
       "      <td>February 2017</td>\n",
       "      <td>32.747097</td>\n",
       "      <td>-97.286434</td>\n",
       "    </tr>\n",
       "  </tbody>\n",
       "</table>\n",
       "</div>"
      ]
     },
     "execution_count": 326,
     "metadata": {},
     "output_type": "execute_result"
    }
   ],
   "execution_count": 326
  },
  {
   "metadata": {
    "ExecuteTime": {
     "end_time": "2025-07-05T20:13:18.709908Z",
     "start_time": "2025-07-05T20:13:18.680956Z"
    }
   },
   "cell_type": "code",
   "source": "ds[Temp_feature] = pd.to_datetime(ds[Temp_feature], format='%B %Y')",
   "id": "5eada0e49f93d1fa",
   "outputs": [],
   "execution_count": 327
  },
  {
   "metadata": {
    "ExecuteTime": {
     "end_time": "2025-07-05T20:13:25.373997Z",
     "start_time": "2025-07-05T20:13:25.356105Z"
    }
   },
   "cell_type": "code",
   "source": "ds.head()",
   "id": "1768c40c706e357f",
   "outputs": [
    {
     "data": {
      "text/plain": [
       "   average_rate_per_night  bedrooms_count  city date_of_listing   latitude  \\\n",
       "0                    27.0             2.0     1      2016-05-01  30.020138   \n",
       "1                   149.0             4.0     2      2010-11-01  29.503068   \n",
       "2                    59.0             1.0     3      2017-01-01  29.829352   \n",
       "3                    60.0             1.0     4      2016-02-01  30.637304   \n",
       "4                    75.0             2.0     5      2017-02-01  32.747097   \n",
       "\n",
       "   longitude  \n",
       "0 -95.293996  \n",
       "1 -98.447688  \n",
       "2 -95.081549  \n",
       "3 -96.337846  \n",
       "4 -97.286434  "
      ],
      "text/html": [
       "<div>\n",
       "<style scoped>\n",
       "    .dataframe tbody tr th:only-of-type {\n",
       "        vertical-align: middle;\n",
       "    }\n",
       "\n",
       "    .dataframe tbody tr th {\n",
       "        vertical-align: top;\n",
       "    }\n",
       "\n",
       "    .dataframe thead th {\n",
       "        text-align: right;\n",
       "    }\n",
       "</style>\n",
       "<table border=\"1\" class=\"dataframe\">\n",
       "  <thead>\n",
       "    <tr style=\"text-align: right;\">\n",
       "      <th></th>\n",
       "      <th>average_rate_per_night</th>\n",
       "      <th>bedrooms_count</th>\n",
       "      <th>city</th>\n",
       "      <th>date_of_listing</th>\n",
       "      <th>latitude</th>\n",
       "      <th>longitude</th>\n",
       "    </tr>\n",
       "  </thead>\n",
       "  <tbody>\n",
       "    <tr>\n",
       "      <th>0</th>\n",
       "      <td>27.0</td>\n",
       "      <td>2.0</td>\n",
       "      <td>1</td>\n",
       "      <td>2016-05-01</td>\n",
       "      <td>30.020138</td>\n",
       "      <td>-95.293996</td>\n",
       "    </tr>\n",
       "    <tr>\n",
       "      <th>1</th>\n",
       "      <td>149.0</td>\n",
       "      <td>4.0</td>\n",
       "      <td>2</td>\n",
       "      <td>2010-11-01</td>\n",
       "      <td>29.503068</td>\n",
       "      <td>-98.447688</td>\n",
       "    </tr>\n",
       "    <tr>\n",
       "      <th>2</th>\n",
       "      <td>59.0</td>\n",
       "      <td>1.0</td>\n",
       "      <td>3</td>\n",
       "      <td>2017-01-01</td>\n",
       "      <td>29.829352</td>\n",
       "      <td>-95.081549</td>\n",
       "    </tr>\n",
       "    <tr>\n",
       "      <th>3</th>\n",
       "      <td>60.0</td>\n",
       "      <td>1.0</td>\n",
       "      <td>4</td>\n",
       "      <td>2016-02-01</td>\n",
       "      <td>30.637304</td>\n",
       "      <td>-96.337846</td>\n",
       "    </tr>\n",
       "    <tr>\n",
       "      <th>4</th>\n",
       "      <td>75.0</td>\n",
       "      <td>2.0</td>\n",
       "      <td>5</td>\n",
       "      <td>2017-02-01</td>\n",
       "      <td>32.747097</td>\n",
       "      <td>-97.286434</td>\n",
       "    </tr>\n",
       "  </tbody>\n",
       "</table>\n",
       "</div>"
      ]
     },
     "execution_count": 328,
     "metadata": {},
     "output_type": "execute_result"
    }
   ],
   "execution_count": 328
  },
  {
   "metadata": {
    "ExecuteTime": {
     "end_time": "2025-07-05T20:16:40.942606Z",
     "start_time": "2025-07-05T20:16:40.931946Z"
    }
   },
   "cell_type": "code",
   "source": "ds[Temp_feature] = ds[Temp_feature].astype('int64') / 1e9",
   "id": "24172e78e0a410e5",
   "outputs": [],
   "execution_count": 331
  },
  {
   "metadata": {
    "ExecuteTime": {
     "end_time": "2025-07-05T20:16:54.247335Z",
     "start_time": "2025-07-05T20:16:54.240231Z"
    }
   },
   "cell_type": "code",
   "source": "ds[Temp_feature].dtypes",
   "id": "75efd8ccbc738e1e",
   "outputs": [
    {
     "data": {
      "text/plain": [
       "dtype('float64')"
      ]
     },
     "execution_count": 332,
     "metadata": {},
     "output_type": "execute_result"
    }
   ],
   "execution_count": 332
  },
  {
   "metadata": {
    "ExecuteTime": {
     "end_time": "2025-07-05T20:17:29.351033Z",
     "start_time": "2025-07-05T20:17:29.344106Z"
    }
   },
   "cell_type": "code",
   "source": "numerical_columns.append(Temp_feature)",
   "id": "43f13a156584623c",
   "outputs": [],
   "execution_count": 334
  },
  {
   "metadata": {
    "ExecuteTime": {
     "end_time": "2025-07-05T20:17:38.987071Z",
     "start_time": "2025-07-05T20:17:38.971600Z"
    }
   },
   "cell_type": "code",
   "source": "ds.head()",
   "id": "122d039cdc0e3c0a",
   "outputs": [
    {
     "data": {
      "text/plain": [
       "   average_rate_per_night  bedrooms_count  city  date_of_listing   latitude  \\\n",
       "0                    27.0             2.0     1     1.462061e+09  30.020138   \n",
       "1                   149.0             4.0     2     1.288570e+09  29.503068   \n",
       "2                    59.0             1.0     3     1.483229e+09  29.829352   \n",
       "3                    60.0             1.0     4     1.454285e+09  30.637304   \n",
       "4                    75.0             2.0     5     1.485907e+09  32.747097   \n",
       "\n",
       "   longitude  \n",
       "0 -95.293996  \n",
       "1 -98.447688  \n",
       "2 -95.081549  \n",
       "3 -96.337846  \n",
       "4 -97.286434  "
      ],
      "text/html": [
       "<div>\n",
       "<style scoped>\n",
       "    .dataframe tbody tr th:only-of-type {\n",
       "        vertical-align: middle;\n",
       "    }\n",
       "\n",
       "    .dataframe tbody tr th {\n",
       "        vertical-align: top;\n",
       "    }\n",
       "\n",
       "    .dataframe thead th {\n",
       "        text-align: right;\n",
       "    }\n",
       "</style>\n",
       "<table border=\"1\" class=\"dataframe\">\n",
       "  <thead>\n",
       "    <tr style=\"text-align: right;\">\n",
       "      <th></th>\n",
       "      <th>average_rate_per_night</th>\n",
       "      <th>bedrooms_count</th>\n",
       "      <th>city</th>\n",
       "      <th>date_of_listing</th>\n",
       "      <th>latitude</th>\n",
       "      <th>longitude</th>\n",
       "    </tr>\n",
       "  </thead>\n",
       "  <tbody>\n",
       "    <tr>\n",
       "      <th>0</th>\n",
       "      <td>27.0</td>\n",
       "      <td>2.0</td>\n",
       "      <td>1</td>\n",
       "      <td>1.462061e+09</td>\n",
       "      <td>30.020138</td>\n",
       "      <td>-95.293996</td>\n",
       "    </tr>\n",
       "    <tr>\n",
       "      <th>1</th>\n",
       "      <td>149.0</td>\n",
       "      <td>4.0</td>\n",
       "      <td>2</td>\n",
       "      <td>1.288570e+09</td>\n",
       "      <td>29.503068</td>\n",
       "      <td>-98.447688</td>\n",
       "    </tr>\n",
       "    <tr>\n",
       "      <th>2</th>\n",
       "      <td>59.0</td>\n",
       "      <td>1.0</td>\n",
       "      <td>3</td>\n",
       "      <td>1.483229e+09</td>\n",
       "      <td>29.829352</td>\n",
       "      <td>-95.081549</td>\n",
       "    </tr>\n",
       "    <tr>\n",
       "      <th>3</th>\n",
       "      <td>60.0</td>\n",
       "      <td>1.0</td>\n",
       "      <td>4</td>\n",
       "      <td>1.454285e+09</td>\n",
       "      <td>30.637304</td>\n",
       "      <td>-96.337846</td>\n",
       "    </tr>\n",
       "    <tr>\n",
       "      <th>4</th>\n",
       "      <td>75.0</td>\n",
       "      <td>2.0</td>\n",
       "      <td>5</td>\n",
       "      <td>1.485907e+09</td>\n",
       "      <td>32.747097</td>\n",
       "      <td>-97.286434</td>\n",
       "    </tr>\n",
       "  </tbody>\n",
       "</table>\n",
       "</div>"
      ]
     },
     "execution_count": 336,
     "metadata": {},
     "output_type": "execute_result"
    }
   ],
   "execution_count": 336
  },
  {
   "metadata": {
    "ExecuteTime": {
     "end_time": "2025-07-05T20:17:54.622241Z",
     "start_time": "2025-07-05T20:17:54.606251Z"
    }
   },
   "cell_type": "code",
   "source": "ds.info()",
   "id": "75fef855b40ceaa7",
   "outputs": [
    {
     "name": "stdout",
     "output_type": "stream",
     "text": [
      "<class 'pandas.core.frame.DataFrame'>\n",
      "RangeIndex: 18259 entries, 0 to 18258\n",
      "Data columns (total 6 columns):\n",
      " #   Column                  Non-Null Count  Dtype  \n",
      "---  ------                  --------------  -----  \n",
      " 0   average_rate_per_night  18259 non-null  float64\n",
      " 1   bedrooms_count          18259 non-null  float64\n",
      " 2   city                    18259 non-null  int64  \n",
      " 3   date_of_listing         18259 non-null  float64\n",
      " 4   latitude                18259 non-null  float64\n",
      " 5   longitude               18259 non-null  float64\n",
      "dtypes: float64(5), int64(1)\n",
      "memory usage: 856.0 KB\n"
     ]
    }
   ],
   "execution_count": 338
  }
 ],
 "metadata": {
  "kernelspec": {
   "display_name": "Python [conda env:base] *",
   "language": "python",
   "name": "conda-base-py"
  },
  "language_info": {
   "codemirror_mode": {
    "name": "ipython",
    "version": 3
   },
   "file_extension": ".py",
   "mimetype": "text/x-python",
   "name": "python",
   "nbconvert_exporter": "python",
   "pygments_lexer": "ipython3",
   "version": "3.12.7"
  }
 },
 "nbformat": 4,
 "nbformat_minor": 5
}
